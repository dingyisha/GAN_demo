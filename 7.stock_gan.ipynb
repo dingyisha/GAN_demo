{
 "cells": [
  {
   "cell_type": "code",
   "execution_count": 1,
   "metadata": {},
   "outputs": [
    {
     "name": "stderr",
     "output_type": "stream",
     "text": [
      "2024-08-04 20:55:27.197134: I tensorflow/tsl/cuda/cudart_stub.cc:28] Could not find cuda drivers on your machine, GPU will not be used.\n",
      "2024-08-04 20:55:27.269786: I tensorflow/tsl/cuda/cudart_stub.cc:28] Could not find cuda drivers on your machine, GPU will not be used.\n",
      "2024-08-04 20:55:27.270824: I tensorflow/core/platform/cpu_feature_guard.cc:182] This TensorFlow binary is optimized to use available CPU instructions in performance-critical operations.\n",
      "To enable the following instructions: AVX2 FMA, in other operations, rebuild TensorFlow with the appropriate compiler flags.\n",
      "2024-08-04 20:55:32.289417: W tensorflow/compiler/tf2tensorrt/utils/py_utils.cc:38] TF-TRT Warning: Could not find TensorRT\n"
     ]
    },
    {
     "name": "stdout",
     "output_type": "stream",
     "text": [
      "Epoch 1/10\n"
     ]
    }
   ],
   "source": [
    "import numpy as np\n",
    "import pandas as pd\n",
    "import matplotlib.pyplot as plt\n",
    "from sklearn.preprocessing import MinMaxScaler\n",
    "from tensorflow.keras.models import Sequential\n",
    "from tensorflow.keras.layers import LSTM, Dense\n",
    "\n",
    "# 读取数据\n",
    "message_df = pd.read_csv('message_file.csv', header=None, names=['Time', 'Type', 'OrderID', 'Size', 'Price', 'Direction'])\n",
    "orderbook_df = pd.read_csv('orderbook_file.csv', header=None, names=['AskPrice1', 'AskSize1', 'BidPrice1', 'BidSize1'])\n",
    "\n",
    "# 将时间转换为相对时间(秒)\n",
    "message_df['Time'] = message_df['Time'] - message_df['Time'].min()\n",
    "\n",
    "# 提取特征和时间序列\n",
    "best_bid_prices = orderbook_df['BidPrice1'].values.reshape(-1, 1)\n",
    "best_ask_prices = orderbook_df['AskPrice1'].values.reshape(-1, 1)\n",
    "time_stamps = message_df['Time']\n",
    "\n",
    "# 标准化数据\n",
    "scaler_bid = MinMaxScaler()\n",
    "scaled_bid_prices = scaler_bid.fit_transform(best_bid_prices)\n",
    "\n",
    "scaler_ask = MinMaxScaler()\n",
    "scaled_ask_prices = scaler_ask.fit_transform(best_ask_prices)\n",
    "\n",
    "# 准备输入序列\n",
    "def create_sequences(data, sequence_length):\n",
    "    X = []\n",
    "    y = []\n",
    "    for i in range(len(data) - sequence_length):\n",
    "        X.append(data[i:i+sequence_length])\n",
    "        y.append(data[i+sequence_length])\n",
    "    return np.array(X), np.array(y)\n",
    "\n",
    "sequence_length = 100  # 可以根据需要调整\n",
    "X_bid, y_bid = create_sequences(scaled_bid_prices, sequence_length)\n",
    "X_ask, y_ask = create_sequences(scaled_ask_prices, sequence_length)\n",
    "\n",
    "# 构建LSTM模型\n",
    "def build_lstm_model(input_shape):\n",
    "    model = Sequential()\n",
    "    model.add(LSTM(50, return_sequences=True, input_shape=input_shape))\n",
    "    model.add(LSTM(50))\n",
    "    model.add(Dense(1))\n",
    "    model.compile(optimizer='adam', loss='mse')\n",
    "    return model\n",
    "\n",
    "# 训练LSTM模型\n",
    "lstm_bid = build_lstm_model((sequence_length, 1))\n",
    "lstm_bid.fit(X_bid, y_bid, epochs=10, batch_size=32, verbose=1)\n",
    "\n",
    "lstm_ask = build_lstm_model((sequence_length, 1))\n",
    "lstm_ask.fit(X_ask, y_ask, epochs=10, batch_size=32, verbose=1)\n",
    "\n",
    "# 生成新的数据\n",
    "def generate_lstm_data(model, seed_data, n_steps):\n",
    "    generated_data = []\n",
    "    current_data = seed_data\n",
    "    for _ in range(n_steps):\n",
    "        pred = model.predict(current_data[np.newaxis, :, :])\n",
    "        generated_data.append(pred[0, 0])\n",
    "        current_data = np.append(current_data[1:], pred, axis=0)\n",
    "    return np.array(generated_data)\n",
    "\n",
    "generated_bid_prices = generate_lstm_data(lstm_bid, X_bid[-1], len(best_bid_prices))\n",
    "generated_ask_prices = generate_lstm_data(lstm_ask, X_ask[-1], len(best_ask_prices))\n",
    "\n",
    "# 反标准化数据\n",
    "generated_bid_prices = scaler_bid.inverse_transform(generated_bid_prices.reshape(-1, 1))\n",
    "generated_ask_prices = scaler_ask.inverse_transform(generated_ask_prices.reshape(-1, 1))\n",
    "\n",
    "# 绘制实际最佳买价(Best Bid)和最佳卖价(Best Ask)以及生成的最佳买价和最佳卖价的多线图\n",
    "plt.figure(figsize=(15, 10))\n",
    "plt.plot(time_stamps.iloc[:len(best_bid_prices)], best_bid_prices / 10000, label='Real Best Bid', color='blue', alpha=0.7)\n",
    "plt.plot(time_stamps.iloc[:len(best_ask_prices)], best_ask_prices / 10000, label='Real Best Ask', color='red', alpha=0.7)\n",
    "plt.plot(time_stamps.iloc[:len(generated_bid_prices)], generated_bid_prices / 10000, label='Generated Best Bid', color='cyan', linestyle='--')\n",
    "plt.plot(time_stamps.iloc[:len(generated_ask_prices)], generated_ask_prices / 10000, label='Generated Best Ask', color='magenta', linestyle='--')\n",
    "\n",
    "plt.title('Comparison of Real and Generated Best Bid/Ask Prices')\n",
    "plt.xlabel('Time (seconds after start)')\n",
    "plt.ylabel('Price')\n",
    "plt.legend()\n",
    "\n",
    "plt.tight_layout()\n",
    "plt.show()\n"
   ]
  }
 ],
 "metadata": {
  "kernelspec": {
   "display_name": "Python 3",
   "language": "python",
   "name": "python3"
  },
  "language_info": {
   "codemirror_mode": {
    "name": "ipython",
    "version": 3
   },
   "file_extension": ".py",
   "mimetype": "text/x-python",
   "name": "python",
   "nbconvert_exporter": "python",
   "pygments_lexer": "ipython3",
   "version": "3.8.19"
  }
 },
 "nbformat": 4,
 "nbformat_minor": 2
}
